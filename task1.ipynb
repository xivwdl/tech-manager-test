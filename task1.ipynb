{
 "cells": [
  {
   "cell_type": "code",
   "execution_count": 1,
   "metadata": {},
   "outputs": [],
   "source": [
    "import pandas as pd\n",
    "import numpy as np"
   ]
  },
  {
   "cell_type": "markdown",
   "metadata": {},
   "source": [
    "### 1. Постановка задачи"
   ]
  },
  {
   "cell_type": "markdown",
   "metadata": {},
   "source": [
    "Имеется файл 1 с временной статистикой работы асессоров над однотипным заданием.\n",
    "\n",
    "Задание может состоять из одного или несколько микрозаданий. Время резервирования задания (assigned_ts) указывает на тот момент, когда система назначила определенного асессора исполнителем этого задания. Этот момент может совпадать с временем начала работы асессора над заданием, а может и не совпадать (асессор может отойти выпить чаю, а потом приступить к заданию, асессор может выполнять предыдущее задание, в то время как за ним зарезервированы новые).\n",
    "\n",
    "Предположим, что асессор за 30 секунд своего рабочего времени получает N рублей.\n",
    "\n",
    "Какую оплату вы считаете справедливой для выполнения асессором одного микрозадания из этого файла?"
   ]
  },
  {
   "cell_type": "markdown",
   "metadata": {},
   "source": [
    "### 2. Понимание данных\n",
    "\n",
    "Формат файла: login tid Microtasks assigned_ts tclosed_ts; разделитель — табуляция \\t\n",
    "\n",
    "Пояснение к формату: \n",
    "* login — логин асессора\n",
    "* tid — id оцениваемого задания (task id)\n",
    "* Microtasks – количество микрозаданий в одном задании\n",
    "* assigned_ts — время резервирования системой задания для асессора\n",
    "* closed_ts — точное время завершения работы над заданием"
   ]
  },
  {
   "cell_type": "markdown",
   "metadata": {},
   "source": [
    "В данных обнаружены следующие ошибки:\n",
    "* значения tid и Microtasks имеют тип float\n",
    "* значения assigned_ts и closed_ts имеют тип object\n",
    "\n",
    "Пропущенных и нулевых значений в данных нет"
   ]
  },
  {
   "cell_type": "code",
   "execution_count": 3,
   "metadata": {},
   "outputs": [],
   "source": [
    "df = pd.read_csv('one.txt', '\\t')"
   ]
  },
  {
   "cell_type": "code",
   "execution_count": 8,
   "metadata": {},
   "outputs": [
    {
     "data": {
      "text/html": [
       "<div>\n",
       "<style scoped>\n",
       "    .dataframe tbody tr th:only-of-type {\n",
       "        vertical-align: middle;\n",
       "    }\n",
       "\n",
       "    .dataframe tbody tr th {\n",
       "        vertical-align: top;\n",
       "    }\n",
       "\n",
       "    .dataframe thead th {\n",
       "        text-align: right;\n",
       "    }\n",
       "</style>\n",
       "<table border=\"1\" class=\"dataframe\">\n",
       "  <thead>\n",
       "    <tr style=\"text-align: right;\">\n",
       "      <th></th>\n",
       "      <th>login</th>\n",
       "      <th>tid</th>\n",
       "      <th>Microtasks</th>\n",
       "      <th>assigned_ts</th>\n",
       "      <th>closed_ts</th>\n",
       "    </tr>\n",
       "  </thead>\n",
       "  <tbody>\n",
       "    <tr>\n",
       "      <th>0</th>\n",
       "      <td>login0</td>\n",
       "      <td>190563850.0</td>\n",
       "      <td>4.0</td>\n",
       "      <td>2017-04-20 12:09:39</td>\n",
       "      <td>2017-04-20 13:13:01</td>\n",
       "    </tr>\n",
       "    <tr>\n",
       "      <th>1</th>\n",
       "      <td>login0</td>\n",
       "      <td>190561754.0</td>\n",
       "      <td>1.0</td>\n",
       "      <td>2017-04-20 12:10:30</td>\n",
       "      <td>2017-04-20 12:28:29</td>\n",
       "    </tr>\n",
       "    <tr>\n",
       "      <th>2</th>\n",
       "      <td>login0</td>\n",
       "      <td>190565906.0</td>\n",
       "      <td>4.0</td>\n",
       "      <td>2017-04-20 12:21:31</td>\n",
       "      <td>2017-04-20 13:30:10</td>\n",
       "    </tr>\n",
       "    <tr>\n",
       "      <th>3</th>\n",
       "      <td>login0</td>\n",
       "      <td>190560246.0</td>\n",
       "      <td>1.0</td>\n",
       "      <td>2017-04-20 12:28:30</td>\n",
       "      <td>2017-04-20 13:13:56</td>\n",
       "    </tr>\n",
       "    <tr>\n",
       "      <th>4</th>\n",
       "      <td>login0</td>\n",
       "      <td>190562168.0</td>\n",
       "      <td>2.0</td>\n",
       "      <td>2017-04-20 12:28:42</td>\n",
       "      <td>2017-04-20 13:14:50</td>\n",
       "    </tr>\n",
       "  </tbody>\n",
       "</table>\n",
       "</div>"
      ],
      "text/plain": [
       "    login          tid  Microtasks          assigned_ts            closed_ts\n",
       "0  login0  190563850.0         4.0  2017-04-20 12:09:39  2017-04-20 13:13:01\n",
       "1  login0  190561754.0         1.0  2017-04-20 12:10:30  2017-04-20 12:28:29\n",
       "2  login0  190565906.0         4.0  2017-04-20 12:21:31  2017-04-20 13:30:10\n",
       "3  login0  190560246.0         1.0  2017-04-20 12:28:30  2017-04-20 13:13:56\n",
       "4  login0  190562168.0         2.0  2017-04-20 12:28:42  2017-04-20 13:14:50"
      ]
     },
     "execution_count": 8,
     "metadata": {},
     "output_type": "execute_result"
    }
   ],
   "source": [
    "df.head()"
   ]
  },
  {
   "cell_type": "code",
   "execution_count": 9,
   "metadata": {},
   "outputs": [
    {
     "name": "stdout",
     "output_type": "stream",
     "text": [
      "<class 'pandas.core.frame.DataFrame'>\n",
      "RangeIndex: 701827 entries, 0 to 701826\n",
      "Data columns (total 5 columns):\n",
      " #   Column       Non-Null Count   Dtype  \n",
      "---  ------       --------------   -----  \n",
      " 0   login        701827 non-null  object \n",
      " 1   tid          701827 non-null  float64\n",
      " 2   Microtasks   701827 non-null  float64\n",
      " 3   assigned_ts  701827 non-null  object \n",
      " 4   closed_ts    701827 non-null  object \n",
      "dtypes: float64(2), object(3)\n",
      "memory usage: 26.8+ MB\n"
     ]
    }
   ],
   "source": [
    "df.info()"
   ]
  },
  {
   "cell_type": "code",
   "execution_count": 12,
   "metadata": {},
   "outputs": [
    {
     "name": "stdout",
     "output_type": "stream",
     "text": [
      "Значений равных нулю в столбце login - нет\n",
      "Значений равных нулю в столбце tid - нет\n",
      "Значений равных нулю в столбце Microtasks - нет\n",
      "Значений равных нулю в столбце assigned_ts - нет\n",
      "Значений равных нулю в столбце closed_ts - нет\n"
     ]
    }
   ],
   "source": [
    "for i in df.columns:\n",
    "    if len(df[df[i] == 0]) != 0:\n",
    "        print(f'Кол-во значений равных нулю в столбце {i}:', len(df[df[i] == 0]))\n",
    "    else: print(f'Значений равных нулю в столбце {i} - нет')"
   ]
  },
  {
   "cell_type": "markdown",
   "metadata": {},
   "source": [
    "### 3. Подготовка данных\n",
    "\n",
    "Для корректной обработки данных:\n",
    "* значения tid и Microtasks необходимо перевести к типу int\n",
    "* значения assigned_ts и closed_ts - к типу datetime\n",
    "\n",
    "Также для удобства работы изменим название \"Microtasks\" на \"microtasks\""
   ]
  },
  {
   "cell_type": "code",
   "execution_count": 14,
   "metadata": {},
   "outputs": [],
   "source": [
    "# меняем имя столбца Microtasks\n",
    "\n",
    "df.rename(columns={'Microtasks': 'microtasks'}, inplace=True)"
   ]
  },
  {
   "cell_type": "code",
   "execution_count": 21,
   "metadata": {},
   "outputs": [],
   "source": [
    "# меняем тип данных tid, microtasks\n",
    "\n",
    "df[['tid', 'microtasks']] = df[['tid', 'microtasks']].astype(int)"
   ]
  },
  {
   "cell_type": "code",
   "execution_count": 32,
   "metadata": {},
   "outputs": [],
   "source": [
    "# меняем тип данных assigned_ts,closed_ts\n",
    "\n",
    "df['assigned_ts'] = pd.to_datetime(df['assigned_ts'], format=\"%Y/%m/%d %H:%M:%S\")\n",
    "df['closed_ts'] = pd.to_datetime(df['closed_ts'], format=\"%Y/%m/%d %H:%M:%S\")"
   ]
  },
  {
   "cell_type": "code",
   "execution_count": 33,
   "metadata": {},
   "outputs": [
    {
     "name": "stdout",
     "output_type": "stream",
     "text": [
      "<class 'pandas.core.frame.DataFrame'>\n",
      "RangeIndex: 701827 entries, 0 to 701826\n",
      "Data columns (total 5 columns):\n",
      " #   Column       Non-Null Count   Dtype         \n",
      "---  ------       --------------   -----         \n",
      " 0   login        701827 non-null  object        \n",
      " 1   tid          701827 non-null  int32         \n",
      " 2   microtasks   701827 non-null  int32         \n",
      " 3   assigned_ts  701827 non-null  datetime64[ns]\n",
      " 4   closed_ts    701827 non-null  datetime64[ns]\n",
      "dtypes: datetime64[ns](2), int32(2), object(1)\n",
      "memory usage: 21.4+ MB\n"
     ]
    }
   ],
   "source": [
    "df.info()"
   ]
  },
  {
   "cell_type": "markdown",
   "metadata": {},
   "source": [
    "### 4. Анализ данных\n",
    "\n",
    "Для решения задачи расчитаем разницу между временем резервирования задания и временем его сдачи. Затем вычислим среднее время выполнения для задач с разным количеством микрозаданий. Определим среднее время выполнения одного микрозадания и вычислим сумму оплаты за него."
   ]
  },
  {
   "cell_type": "code",
   "execution_count": 37,
   "metadata": {},
   "outputs": [
    {
     "data": {
      "text/html": [
       "<div>\n",
       "<style scoped>\n",
       "    .dataframe tbody tr th:only-of-type {\n",
       "        vertical-align: middle;\n",
       "    }\n",
       "\n",
       "    .dataframe tbody tr th {\n",
       "        vertical-align: top;\n",
       "    }\n",
       "\n",
       "    .dataframe thead th {\n",
       "        text-align: right;\n",
       "    }\n",
       "</style>\n",
       "<table border=\"1\" class=\"dataframe\">\n",
       "  <thead>\n",
       "    <tr style=\"text-align: right;\">\n",
       "      <th></th>\n",
       "      <th>login</th>\n",
       "      <th>tid</th>\n",
       "      <th>microtasks</th>\n",
       "      <th>assigned_ts</th>\n",
       "      <th>closed_ts</th>\n",
       "    </tr>\n",
       "  </thead>\n",
       "  <tbody>\n",
       "    <tr>\n",
       "      <th>0</th>\n",
       "      <td>login0</td>\n",
       "      <td>190563850</td>\n",
       "      <td>4</td>\n",
       "      <td>2017-04-20 12:09:39</td>\n",
       "      <td>2017-04-20 13:13:01</td>\n",
       "    </tr>\n",
       "    <tr>\n",
       "      <th>1</th>\n",
       "      <td>login0</td>\n",
       "      <td>190561754</td>\n",
       "      <td>1</td>\n",
       "      <td>2017-04-20 12:10:30</td>\n",
       "      <td>2017-04-20 12:28:29</td>\n",
       "    </tr>\n",
       "    <tr>\n",
       "      <th>2</th>\n",
       "      <td>login0</td>\n",
       "      <td>190565906</td>\n",
       "      <td>4</td>\n",
       "      <td>2017-04-20 12:21:31</td>\n",
       "      <td>2017-04-20 13:30:10</td>\n",
       "    </tr>\n",
       "    <tr>\n",
       "      <th>3</th>\n",
       "      <td>login0</td>\n",
       "      <td>190560246</td>\n",
       "      <td>1</td>\n",
       "      <td>2017-04-20 12:28:30</td>\n",
       "      <td>2017-04-20 13:13:56</td>\n",
       "    </tr>\n",
       "    <tr>\n",
       "      <th>4</th>\n",
       "      <td>login0</td>\n",
       "      <td>190562168</td>\n",
       "      <td>2</td>\n",
       "      <td>2017-04-20 12:28:42</td>\n",
       "      <td>2017-04-20 13:14:50</td>\n",
       "    </tr>\n",
       "  </tbody>\n",
       "</table>\n",
       "</div>"
      ],
      "text/plain": [
       "    login        tid  microtasks         assigned_ts           closed_ts\n",
       "0  login0  190563850           4 2017-04-20 12:09:39 2017-04-20 13:13:01\n",
       "1  login0  190561754           1 2017-04-20 12:10:30 2017-04-20 12:28:29\n",
       "2  login0  190565906           4 2017-04-20 12:21:31 2017-04-20 13:30:10\n",
       "3  login0  190560246           1 2017-04-20 12:28:30 2017-04-20 13:13:56\n",
       "4  login0  190562168           2 2017-04-20 12:28:42 2017-04-20 13:14:50"
      ]
     },
     "execution_count": 37,
     "metadata": {},
     "output_type": "execute_result"
    }
   ],
   "source": [
    "df.head()"
   ]
  },
  {
   "cell_type": "code",
   "execution_count": 49,
   "metadata": {},
   "outputs": [],
   "source": [
    "# определяем разницу между временем резервирования и временнем сдачи задачи\n",
    "\n",
    "df['time_ts'] = df['closed_ts'] - df['assigned_ts']"
   ]
  },
  {
   "cell_type": "code",
   "execution_count": 69,
   "metadata": {},
   "outputs": [
    {
     "data": {
      "text/html": [
       "<div>\n",
       "<style scoped>\n",
       "    .dataframe tbody tr th:only-of-type {\n",
       "        vertical-align: middle;\n",
       "    }\n",
       "\n",
       "    .dataframe tbody tr th {\n",
       "        vertical-align: top;\n",
       "    }\n",
       "\n",
       "    .dataframe thead th {\n",
       "        text-align: right;\n",
       "    }\n",
       "</style>\n",
       "<table border=\"1\" class=\"dataframe\">\n",
       "  <thead>\n",
       "    <tr style=\"text-align: right;\">\n",
       "      <th></th>\n",
       "      <th>login</th>\n",
       "      <th>tid</th>\n",
       "      <th>microtasks</th>\n",
       "      <th>assigned_ts</th>\n",
       "      <th>closed_ts</th>\n",
       "      <th>time_ts</th>\n",
       "    </tr>\n",
       "  </thead>\n",
       "  <tbody>\n",
       "    <tr>\n",
       "      <th>0</th>\n",
       "      <td>login0</td>\n",
       "      <td>190563850</td>\n",
       "      <td>4</td>\n",
       "      <td>2017-04-20 12:09:39</td>\n",
       "      <td>2017-04-20 13:13:01</td>\n",
       "      <td>0 days 01:03:22</td>\n",
       "    </tr>\n",
       "    <tr>\n",
       "      <th>1</th>\n",
       "      <td>login0</td>\n",
       "      <td>190561754</td>\n",
       "      <td>1</td>\n",
       "      <td>2017-04-20 12:10:30</td>\n",
       "      <td>2017-04-20 12:28:29</td>\n",
       "      <td>0 days 00:17:59</td>\n",
       "    </tr>\n",
       "    <tr>\n",
       "      <th>2</th>\n",
       "      <td>login0</td>\n",
       "      <td>190565906</td>\n",
       "      <td>4</td>\n",
       "      <td>2017-04-20 12:21:31</td>\n",
       "      <td>2017-04-20 13:30:10</td>\n",
       "      <td>0 days 01:08:39</td>\n",
       "    </tr>\n",
       "    <tr>\n",
       "      <th>3</th>\n",
       "      <td>login0</td>\n",
       "      <td>190560246</td>\n",
       "      <td>1</td>\n",
       "      <td>2017-04-20 12:28:30</td>\n",
       "      <td>2017-04-20 13:13:56</td>\n",
       "      <td>0 days 00:45:26</td>\n",
       "    </tr>\n",
       "    <tr>\n",
       "      <th>4</th>\n",
       "      <td>login0</td>\n",
       "      <td>190562168</td>\n",
       "      <td>2</td>\n",
       "      <td>2017-04-20 12:28:42</td>\n",
       "      <td>2017-04-20 13:14:50</td>\n",
       "      <td>0 days 00:46:08</td>\n",
       "    </tr>\n",
       "  </tbody>\n",
       "</table>\n",
       "</div>"
      ],
      "text/plain": [
       "    login        tid  microtasks         assigned_ts           closed_ts  \\\n",
       "0  login0  190563850           4 2017-04-20 12:09:39 2017-04-20 13:13:01   \n",
       "1  login0  190561754           1 2017-04-20 12:10:30 2017-04-20 12:28:29   \n",
       "2  login0  190565906           4 2017-04-20 12:21:31 2017-04-20 13:30:10   \n",
       "3  login0  190560246           1 2017-04-20 12:28:30 2017-04-20 13:13:56   \n",
       "4  login0  190562168           2 2017-04-20 12:28:42 2017-04-20 13:14:50   \n",
       "\n",
       "          time_ts  \n",
       "0 0 days 01:03:22  \n",
       "1 0 days 00:17:59  \n",
       "2 0 days 01:08:39  \n",
       "3 0 days 00:45:26  \n",
       "4 0 days 00:46:08  "
      ]
     },
     "execution_count": 69,
     "metadata": {},
     "output_type": "execute_result"
    }
   ],
   "source": [
    "df.head()"
   ]
  },
  {
   "cell_type": "code",
   "execution_count": 85,
   "metadata": {},
   "outputs": [],
   "source": [
    "# переводим полученненное время выполнения заданий в секунды\n",
    "\n",
    "s = []\n",
    "for i in df['time_ts']:\n",
    "    s.append(i.components[0] * 86400 +  i.components[1] * 3600 + i.components[2] * 60+ i.components[3])\n",
    "    df['sec_ts'] = s"
   ]
  },
  {
   "cell_type": "code",
   "execution_count": 89,
   "metadata": {},
   "outputs": [
    {
     "data": {
      "text/html": [
       "<div>\n",
       "<style scoped>\n",
       "    .dataframe tbody tr th:only-of-type {\n",
       "        vertical-align: middle;\n",
       "    }\n",
       "\n",
       "    .dataframe tbody tr th {\n",
       "        vertical-align: top;\n",
       "    }\n",
       "\n",
       "    .dataframe thead th {\n",
       "        text-align: right;\n",
       "    }\n",
       "</style>\n",
       "<table border=\"1\" class=\"dataframe\">\n",
       "  <thead>\n",
       "    <tr style=\"text-align: right;\">\n",
       "      <th></th>\n",
       "      <th>login</th>\n",
       "      <th>tid</th>\n",
       "      <th>microtasks</th>\n",
       "      <th>assigned_ts</th>\n",
       "      <th>closed_ts</th>\n",
       "      <th>time_ts</th>\n",
       "      <th>sec_ts</th>\n",
       "    </tr>\n",
       "  </thead>\n",
       "  <tbody>\n",
       "    <tr>\n",
       "      <th>0</th>\n",
       "      <td>login0</td>\n",
       "      <td>190563850</td>\n",
       "      <td>4</td>\n",
       "      <td>2017-04-20 12:09:39</td>\n",
       "      <td>2017-04-20 13:13:01</td>\n",
       "      <td>0 days 01:03:22</td>\n",
       "      <td>3802</td>\n",
       "    </tr>\n",
       "    <tr>\n",
       "      <th>1</th>\n",
       "      <td>login0</td>\n",
       "      <td>190561754</td>\n",
       "      <td>1</td>\n",
       "      <td>2017-04-20 12:10:30</td>\n",
       "      <td>2017-04-20 12:28:29</td>\n",
       "      <td>0 days 00:17:59</td>\n",
       "      <td>1079</td>\n",
       "    </tr>\n",
       "    <tr>\n",
       "      <th>2</th>\n",
       "      <td>login0</td>\n",
       "      <td>190565906</td>\n",
       "      <td>4</td>\n",
       "      <td>2017-04-20 12:21:31</td>\n",
       "      <td>2017-04-20 13:30:10</td>\n",
       "      <td>0 days 01:08:39</td>\n",
       "      <td>4119</td>\n",
       "    </tr>\n",
       "    <tr>\n",
       "      <th>3</th>\n",
       "      <td>login0</td>\n",
       "      <td>190560246</td>\n",
       "      <td>1</td>\n",
       "      <td>2017-04-20 12:28:30</td>\n",
       "      <td>2017-04-20 13:13:56</td>\n",
       "      <td>0 days 00:45:26</td>\n",
       "      <td>2726</td>\n",
       "    </tr>\n",
       "    <tr>\n",
       "      <th>4</th>\n",
       "      <td>login0</td>\n",
       "      <td>190562168</td>\n",
       "      <td>2</td>\n",
       "      <td>2017-04-20 12:28:42</td>\n",
       "      <td>2017-04-20 13:14:50</td>\n",
       "      <td>0 days 00:46:08</td>\n",
       "      <td>2768</td>\n",
       "    </tr>\n",
       "  </tbody>\n",
       "</table>\n",
       "</div>"
      ],
      "text/plain": [
       "    login        tid  microtasks         assigned_ts           closed_ts  \\\n",
       "0  login0  190563850           4 2017-04-20 12:09:39 2017-04-20 13:13:01   \n",
       "1  login0  190561754           1 2017-04-20 12:10:30 2017-04-20 12:28:29   \n",
       "2  login0  190565906           4 2017-04-20 12:21:31 2017-04-20 13:30:10   \n",
       "3  login0  190560246           1 2017-04-20 12:28:30 2017-04-20 13:13:56   \n",
       "4  login0  190562168           2 2017-04-20 12:28:42 2017-04-20 13:14:50   \n",
       "\n",
       "          time_ts  sec_ts  \n",
       "0 0 days 01:03:22    3802  \n",
       "1 0 days 00:17:59    1079  \n",
       "2 0 days 01:08:39    4119  \n",
       "3 0 days 00:45:26    2726  \n",
       "4 0 days 00:46:08    2768  "
      ]
     },
     "execution_count": 89,
     "metadata": {},
     "output_type": "execute_result"
    }
   ],
   "source": [
    "df.head()"
   ]
  },
  {
   "cell_type": "code",
   "execution_count": 105,
   "metadata": {},
   "outputs": [
    {
     "data": {
      "text/html": [
       "<div>\n",
       "<style scoped>\n",
       "    .dataframe tbody tr th:only-of-type {\n",
       "        vertical-align: middle;\n",
       "    }\n",
       "\n",
       "    .dataframe tbody tr th {\n",
       "        vertical-align: top;\n",
       "    }\n",
       "\n",
       "    .dataframe thead th {\n",
       "        text-align: right;\n",
       "    }\n",
       "</style>\n",
       "<table border=\"1\" class=\"dataframe\">\n",
       "  <thead>\n",
       "    <tr style=\"text-align: right;\">\n",
       "      <th></th>\n",
       "      <th>sec_ts</th>\n",
       "    </tr>\n",
       "    <tr>\n",
       "      <th>microtasks</th>\n",
       "      <th></th>\n",
       "    </tr>\n",
       "  </thead>\n",
       "  <tbody>\n",
       "    <tr>\n",
       "      <th>1</th>\n",
       "      <td>552.505948</td>\n",
       "    </tr>\n",
       "    <tr>\n",
       "      <th>2</th>\n",
       "      <td>1065.803531</td>\n",
       "    </tr>\n",
       "    <tr>\n",
       "      <th>3</th>\n",
       "      <td>1641.166469</td>\n",
       "    </tr>\n",
       "    <tr>\n",
       "      <th>4</th>\n",
       "      <td>2263.476055</td>\n",
       "    </tr>\n",
       "    <tr>\n",
       "      <th>5</th>\n",
       "      <td>3084.908618</td>\n",
       "    </tr>\n",
       "  </tbody>\n",
       "</table>\n",
       "</div>"
      ],
      "text/plain": [
       "                 sec_ts\n",
       "microtasks             \n",
       "1            552.505948\n",
       "2           1065.803531\n",
       "3           1641.166469\n",
       "4           2263.476055\n",
       "5           3084.908618"
      ]
     },
     "execution_count": 105,
     "metadata": {},
     "output_type": "execute_result"
    }
   ],
   "source": [
    "# группируем строки по количеству микрозаданий, усредняя время выполнения всего задания\n",
    "\n",
    "task_sec = df[['microtasks','sec_ts']].groupby('microtasks').mean()\n",
    "task_sec.head()"
   ]
  },
  {
   "cell_type": "code",
   "execution_count": 139,
   "metadata": {},
   "outputs": [
    {
     "name": "stdout",
     "output_type": "stream",
     "text": [
      "Среднее время выполнения одного микрозадания 369.84573452111977\n"
     ]
    }
   ],
   "source": [
    "# вычисляем среднее время выполнения одного задания\n",
    "\n",
    "c_microtasks = task_sec.index\n",
    "\n",
    "time_microtasks = []\n",
    "i = 0\n",
    "for i in range(len(task_sec['sec_ts'])):\n",
    "    time_microtasks.append(task_sec['sec_ts'].iloc[i] / c_microtasks[i])\n",
    "    i += 1\n",
    "    \n",
    "task_sec['time_microtasks'] = time_microtasks\n",
    "\n",
    "print('Среднее время выполнения одного микрозадания', task_sec['time_microtasks'].mean())"
   ]
  },
  {
   "cell_type": "markdown",
   "metadata": {},
   "source": [
    "### Вывод\n",
    "\n",
    "Если считать, что за 30 секунд рабочего времени ассесор получает N рублей, то, исходя их проведенного анализа, **справедливой оплатой за выполнение одного микрозадания будет выступать (370 * N) / 30** "
   ]
  }
 ],
 "metadata": {
  "kernelspec": {
   "display_name": "Python 3",
   "language": "python",
   "name": "python3"
  },
  "language_info": {
   "codemirror_mode": {
    "name": "ipython",
    "version": 3
   },
   "file_extension": ".py",
   "mimetype": "text/x-python",
   "name": "python",
   "nbconvert_exporter": "python",
   "pygments_lexer": "ipython3",
   "version": "3.8.5"
  }
 },
 "nbformat": 4,
 "nbformat_minor": 4
}
